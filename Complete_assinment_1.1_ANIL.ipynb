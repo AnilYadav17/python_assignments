{
 "cells": [
  {
   "cell_type": "markdown",
   "metadata": {},
   "source": [
    "#### 1.\tWrite a Python program to print \"Hello Python\"?"
   ]
  },
  {
   "cell_type": "code",
   "execution_count": 1,
   "metadata": {},
   "outputs": [
    {
     "name": "stdout",
     "output_type": "stream",
     "text": [
      "Hello Python\n"
     ]
    }
   ],
   "source": [
    "print(\"Hello Python\")"
   ]
  },
  {
   "cell_type": "markdown",
   "metadata": {},
   "source": [
    "#### 2.\tWrite a Python program to do arithmetical operations addition and division.?"
   ]
  },
  {
   "cell_type": "code",
   "execution_count": 2,
   "metadata": {},
   "outputs": [
    {
     "name": "stdin",
     "output_type": "stream",
     "text": [
      "Enter a value : 20\n",
      "Enter another value: 10\n"
     ]
    },
    {
     "name": "stdout",
     "output_type": "stream",
     "text": [
      "Addition : 30\n",
      "Subtract b from a : 10\n",
      "Multiplication : 200\n",
      "Divide a by b : 2.0\n"
     ]
    }
   ],
   "source": [
    "a = int(input(\"Enter a value :\"))\n",
    "b = int(input(\"Enter another value:\"))\n",
    "#addition\n",
    "print(\"Addition :\", a+b)\n",
    "#substraction\n",
    "print(\"Subtract b from a :\" , a-b)\n",
    "#multiplication\n",
    "print(\"Multiplication :\", a*b)\n",
    "#division\n",
    "print(\"Divide a by b :\", a/b)"
   ]
  },
  {
   "cell_type": "markdown",
   "metadata": {},
   "source": [
    "#### 3.\tWrite a Python program to find the area of a triangle?"
   ]
  },
  {
   "cell_type": "code",
   "execution_count": 3,
   "metadata": {
    "jupyter": {
     "source_hidden": true
    }
   },
   "outputs": [
    {
     "name": "stdin",
     "output_type": "stream",
     "text": [
      "Enter a side of triangle : 10\n",
      "Enter anotehr side of triangle : 5\n"
     ]
    },
    {
     "name": "stdout",
     "output_type": "stream",
     "text": [
      "Area : 25.0\n"
     ]
    }
   ],
   "source": [
    "a = int(input(\"Enter a side of triangle :\"))\n",
    "b = int(input(\"Enter anotehr side of triangle :\"))\n",
    "\n",
    "print(\"Area :\", a*b*1/2)"
   ]
  },
  {
   "cell_type": "markdown",
   "metadata": {},
   "source": [
    "#### 4.\tWrite a Python program to swap two variables?"
   ]
  },
  {
   "cell_type": "code",
   "execution_count": 5,
   "metadata": {},
   "outputs": [
    {
     "name": "stdin",
     "output_type": "stream",
     "text": [
      "Enter A : 10\n",
      "Enter B : 20\n"
     ]
    },
    {
     "name": "stdout",
     "output_type": "stream",
     "text": [
      "Before Swap :  A :  10 , B : 20\n",
      "After Swap :  A :  20 , B : 10\n"
     ]
    }
   ],
   "source": [
    "a = int(input(\"Enter A :\"))\n",
    "b = int(input(\"Enter B :\"))\n",
    "print(\"Before Swap :\", \"\", \"A : \", a, \",\", \"B :\", b)\n",
    "a , b = b , a\n",
    "\n",
    "print(\"After Swap :\", \"\", \"A : \", a, \",\", \"B :\", b)"
   ]
  },
  {
   "cell_type": "markdown",
   "metadata": {},
   "source": [
    "#### 5.\tWrite a Python program to generate a random number?"
   ]
  },
  {
   "cell_type": "code",
   "execution_count": 7,
   "metadata": {},
   "outputs": [
    {
     "name": "stdout",
     "output_type": "stream",
     "text": [
      "Random Number : 484\n"
     ]
    }
   ],
   "source": [
    "import random\n",
    "random_num = random.randint(1, 1000)\n",
    "print(\"Random Number :\", random_num)"
   ]
  }
 ],
 "metadata": {
  "kernelspec": {
   "display_name": "Python 3 (ipykernel)",
   "language": "python",
   "name": "python3"
  },
  "language_info": {
   "codemirror_mode": {
    "name": "ipython",
    "version": 3
   },
   "file_extension": ".py",
   "mimetype": "text/x-python",
   "name": "python",
   "nbconvert_exporter": "python",
   "pygments_lexer": "ipython3",
   "version": "3.10.12"
  }
 },
 "nbformat": 4,
 "nbformat_minor": 4
}
