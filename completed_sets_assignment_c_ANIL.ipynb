{
 "cells": [
  {
   "cell_type": "markdown",
   "id": "ad371855",
   "metadata": {},
   "source": [
    "# Set Assignments – Solved\n",
    "\n",
    "Solutions to all 15 set-based Python assignments."
   ]
  },
  {
   "cell_type": "markdown",
   "id": "8afde7fe",
   "metadata": {},
   "source": [
    "## Set Assignment\n",
    "### Assignment 1: Creating and Accessing Sets\n",
    "\n",
    "Create a set with the first 10 positive integers. Print the set."
   ]
  },
  {
   "cell_type": "code",
   "execution_count": 1,
   "id": "174efd08",
   "metadata": {},
   "outputs": [
    {
     "name": "stdout",
     "output_type": "stream",
     "text": [
      "{1, 2, 3, 4, 5, 6, 7, 8, 9, 10}\n"
     ]
    }
   ],
   "source": [
    "s = set(range(1, 11))\n",
    "print(s)"
   ]
  },
  {
   "cell_type": "markdown",
   "id": "2870254a",
   "metadata": {},
   "source": [
    "### Assignment 2: Adding and Removing Elements\n",
    "\n",
    "Add the number 11 to the set created in Assignment 1. Then remove the number 1 from the set. Print the modified set."
   ]
  },
  {
   "cell_type": "code",
   "execution_count": 2,
   "id": "d681b7b1",
   "metadata": {},
   "outputs": [
    {
     "name": "stdout",
     "output_type": "stream",
     "text": [
      "{2, 3, 4, 5, 6, 7, 8, 9, 10, 11}\n"
     ]
    }
   ],
   "source": [
    "s = set(range(1, 11))\n",
    "s.add(11)\n",
    "s.remove(1)\n",
    "print(s)"
   ]
  },
  {
   "cell_type": "markdown",
   "id": "4b7c30b6",
   "metadata": {},
   "source": [
    "### Assignment 3: Set Operations\n",
    "\n",
    "Create two sets: one with the first 5 positive integers and another with the first 5 even integers. Perform and print the results of union, intersection, difference, and symmetric difference operations on these sets."
   ]
  },
  {
   "cell_type": "code",
   "execution_count": 3,
   "id": "8b01968d",
   "metadata": {},
   "outputs": [
    {
     "name": "stdout",
     "output_type": "stream",
     "text": [
      "Union: {1, 2, 3, 4, 5, 6, 8, 10}\n",
      "Intersection: {2, 4}\n",
      "Difference (A - B): {1, 3, 5}\n",
      "Symmetric Difference: {1, 3, 5, 6, 8, 10}\n"
     ]
    }
   ],
   "source": [
    "A = {1, 2, 3, 4, 5}\n",
    "B = {2, 4, 6, 8, 10}\n",
    "\n",
    "print(\"Union:\", A | B)\n",
    "print(\"Intersection:\", A & B)\n",
    "print(\"Difference (A - B):\", A - B)\n",
    "print(\"Symmetric Difference:\", A ^ B)"
   ]
  },
  {
   "cell_type": "markdown",
   "id": "8e99d67c",
   "metadata": {},
   "source": [
    "### Assignment 4: Set Comprehensions\n",
    "\n",
    "Create a new set containing the squares of the first 10 positive integers using a set comprehension. Print the new set."
   ]
  },
  {
   "cell_type": "code",
   "execution_count": 4,
   "id": "a321a0f7",
   "metadata": {},
   "outputs": [
    {
     "name": "stdout",
     "output_type": "stream",
     "text": [
      "{64, 1, 4, 36, 100, 9, 16, 49, 81, 25}\n"
     ]
    }
   ],
   "source": [
    "squares = {i**2 for i in range(1, 11)}\n",
    "print(squares)"
   ]
  },
  {
   "cell_type": "markdown",
   "id": "94c17f21",
   "metadata": {},
   "source": [
    "### Assignment 5: Filtering Sets\n",
    "\n",
    "Create a new set containing only the even numbers from the set created in Assignment 1 using a set comprehension. Print the new set."
   ]
  },
  {
   "cell_type": "code",
   "execution_count": 5,
   "id": "f02a12d7",
   "metadata": {},
   "outputs": [
    {
     "name": "stdout",
     "output_type": "stream",
     "text": [
      "{2, 4, 6, 8, 10}\n"
     ]
    }
   ],
   "source": [
    "evens = {x for x in range(1, 11) if x % 2 == 0}\n",
    "print(evens)"
   ]
  },
  {
   "cell_type": "markdown",
   "id": "6a215e3b",
   "metadata": {},
   "source": [
    "### Assignment 6: Set Methods\n",
    "\n",
    "Create a set with duplicate elements and remove the duplicates using set methods. Print the modified set."
   ]
  },
  {
   "cell_type": "code",
   "execution_count": 6,
   "id": "a7482a75",
   "metadata": {},
   "outputs": [
    {
     "name": "stdout",
     "output_type": "stream",
     "text": [
      "{1, 2, 3, 4, 5}\n"
     ]
    }
   ],
   "source": [
    "# Sets cannot have duplicates by design\n",
    "# So we start with a list that has duplicates\n",
    "lst = [1, 2, 2, 3, 4, 4, 5]\n",
    "unique_set = set(lst)\n",
    "print(unique_set)"
   ]
  },
  {
   "cell_type": "markdown",
   "id": "76dad687",
   "metadata": {},
   "source": [
    "### Assignment 7: Subsets and Supersets\n",
    "\n",
    "Create two sets: one with the first 5 positive integers and another with the first 3 positive integers. Check if the second set is a subset of the first set and if the first set is a superset of the second set. Print the results."
   ]
  },
  {
   "cell_type": "code",
   "execution_count": 7,
   "id": "862732c2",
   "metadata": {},
   "outputs": [
    {
     "name": "stdout",
     "output_type": "stream",
     "text": [
      "B is subset of A: True\n",
      "A is superset of B: True\n"
     ]
    }
   ],
   "source": [
    "A = {1, 2, 3, 4, 5}\n",
    "B = {1, 2, 3}\n",
    "\n",
    "print(\"B is subset of A:\", B.issubset(A))\n",
    "print(\"A is superset of B:\", A.issuperset(B))"
   ]
  },
  {
   "cell_type": "markdown",
   "id": "56d131e9",
   "metadata": {},
   "source": [
    "### Assignment 8: Frozenset\n",
    "\n",
    "Create a frozenset with the first 5 positive integers. Print the frozenset."
   ]
  },
  {
   "cell_type": "code",
   "execution_count": 8,
   "id": "fd8ab799",
   "metadata": {},
   "outputs": [
    {
     "name": "stdout",
     "output_type": "stream",
     "text": [
      "frozenset({1, 2, 3, 4, 5})\n"
     ]
    }
   ],
   "source": [
    "fs = frozenset(range(1, 6))\n",
    "print(fs)"
   ]
  },
  {
   "cell_type": "markdown",
   "id": "c26de413",
   "metadata": {},
   "source": [
    "### Assignment 9: Set and List Conversion\n",
    "\n",
    "Create a set with the first 5 positive integers. Convert it to a list, append the number 6, and convert it back to a set. Print the resulting set."
   ]
  },
  {
   "cell_type": "code",
   "execution_count": 9,
   "id": "c171c253",
   "metadata": {},
   "outputs": [
    {
     "name": "stdout",
     "output_type": "stream",
     "text": [
      "{1, 2, 3, 4, 5, 6}\n"
     ]
    }
   ],
   "source": [
    "s = set(range(1, 6))\n",
    "lst = list(s)\n",
    "lst.append(6)\n",
    "new_set = set(lst)\n",
    "print(new_set)"
   ]
  },
  {
   "cell_type": "markdown",
   "id": "fe3d2592",
   "metadata": {},
   "source": [
    "### Assignment 10: Set and Dictionary\n",
    "\n",
    "Create a dictionary with set keys and integer values. Print the dictionary."
   ]
  },
  {
   "cell_type": "code",
   "execution_count": 10,
   "id": "af16a642",
   "metadata": {},
   "outputs": [
    {
     "name": "stdout",
     "output_type": "stream",
     "text": [
      "{frozenset({1, 2}): 10, frozenset({3, 4}): 20}\n"
     ]
    }
   ],
   "source": [
    "# Regular sets are unhashable → cannot be dict keys\n",
    "# Use frozenset instead\n",
    "key1 = frozenset({1, 2})\n",
    "key2 = frozenset({3, 4})\n",
    "d = {key1: 10, key2: 20}\n",
    "print(d)"
   ]
  },
  {
   "cell_type": "markdown",
   "id": "05982aa1",
   "metadata": {},
   "source": [
    "### Assignment 11: Iterating Over Sets\n",
    "\n",
    "Create a set and iterate over the elements, printing each element."
   ]
  },
  {
   "cell_type": "code",
   "execution_count": 11,
   "id": "1c228786",
   "metadata": {},
   "outputs": [
    {
     "name": "stdout",
     "output_type": "stream",
     "text": [
      "40\n",
      "10\n",
      "20\n",
      "30\n"
     ]
    }
   ],
   "source": [
    "s = {10, 20, 30, 40}\n",
    "for item in s:\n",
    "    print(item)"
   ]
  },
  {
   "cell_type": "markdown",
   "id": "e889bffb",
   "metadata": {},
   "source": [
    "### Assignment 12: Removing Elements from Sets\n",
    "\n",
    "Create a set and remove elements from it until it is empty. Print the set after each removal."
   ]
  },
  {
   "cell_type": "code",
   "execution_count": 12,
   "id": "1ed9db0e",
   "metadata": {},
   "outputs": [
    {
     "name": "stdout",
     "output_type": "stream",
     "text": [
      "Start: {1, 2, 3}\n",
      "Removed 1, Set now: {2, 3}\n",
      "Removed 2, Set now: {3}\n",
      "Removed 3, Set now: set()\n"
     ]
    }
   ],
   "source": [
    "s = {1, 2, 3}\n",
    "print(\"Start:\", s)\n",
    "while s:\n",
    "    removed = s.pop()\n",
    "    print(f\"Removed {removed}, Set now: {s}\")"
   ]
  },
  {
   "cell_type": "markdown",
   "id": "1287c893",
   "metadata": {},
   "source": [
    "### Assignment 13: Set Symmetric Difference Update\n",
    "\n",
    "Create two sets and update the first set with the symmetric difference of the two sets. Print the modified first set."
   ]
  },
  {
   "cell_type": "code",
   "execution_count": 13,
   "id": "3a50a827",
   "metadata": {},
   "outputs": [
    {
     "name": "stdout",
     "output_type": "stream",
     "text": [
      "Before: {1, 2, 3, 4}\n",
      "After: {1, 2, 5, 6}\n"
     ]
    }
   ],
   "source": [
    "A = {1, 2, 3, 4}\n",
    "B = {3, 4, 5, 6}\n",
    "print(\"Before:\", A)\n",
    "A.symmetric_difference_update(B)\n",
    "print(\"After:\", A)"
   ]
  },
  {
   "cell_type": "markdown",
   "id": "1529632b",
   "metadata": {},
   "source": [
    "### Assignment 14: Set Membership Testing\n",
    "\n",
    "Create a set and test if certain elements are present in the set. Print the results."
   ]
  },
  {
   "cell_type": "code",
   "execution_count": 14,
   "id": "8d13836d",
   "metadata": {},
   "outputs": [
    {
     "name": "stdout",
     "output_type": "stream",
     "text": [
      "Is 4 in set? True\n",
      "Is 5 in set? False\n",
      "Is 10 in set? True\n"
     ]
    }
   ],
   "source": [
    "s = {2, 4, 6, 8, 10}\n",
    "print(\"Is 4 in set?\", 4 in s)\n",
    "print(\"Is 5 in set?\", 5 in s)\n",
    "print(\"Is 10 in set?\", 10 in s)"
   ]
  },
  {
   "cell_type": "markdown",
   "id": "f2aed0dc",
   "metadata": {},
   "source": [
    "### Assignment 15: Set of Tuples\n",
    "\n",
    "Create a set containing tuples, where each tuple contains two elements. Print the set."
   ]
  },
  {
   "cell_type": "code",
   "execution_count": 15,
   "id": "02d25776",
   "metadata": {},
   "outputs": [
    {
     "name": "stdout",
     "output_type": "stream",
     "text": [
      "{(1, 'a'), (3, 'c'), (2, 'b')}\n"
     ]
    }
   ],
   "source": [
    "s = {(1, 'a'), (2, 'b'), (3, 'c')}\n",
    "print(s)"
   ]
  }
 ],
 "metadata": {
  "kernelspec": {
   "display_name": "Python 3 (ipykernel)",
   "language": "python",
   "name": "python3"
  },
  "language_info": {
   "codemirror_mode": {
    "name": "ipython",
    "version": 3
   },
   "file_extension": ".py",
   "mimetype": "text/x-python",
   "name": "python",
   "nbconvert_exporter": "python",
   "pygments_lexer": "ipython3",
   "version": "3.10.12"
  }
 },
 "nbformat": 4,
 "nbformat_minor": 5
}
