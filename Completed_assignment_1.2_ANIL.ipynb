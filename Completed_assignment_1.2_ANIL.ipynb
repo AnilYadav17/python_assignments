{
 "cells": [
  {
   "cell_type": "markdown",
   "metadata": {},
   "source": [
    "Assignment_1"
   ]
  },
  {
   "cell_type": "markdown",
   "metadata": {},
   "source": [
    "## 1. Syntax and Semantics\n",
    "\n",
    "**Question 1:** Write a Python program to print \"Hello, World!\"."
   ]
  },
  {
   "cell_type": "code",
   "execution_count": 2,
   "metadata": {
    "scrolled": true
   },
   "outputs": [
    {
     "name": "stdout",
     "output_type": "stream",
     "text": [
      "Hello, World!\n"
     ]
    }
   ],
   "source": [
    "print(\"Hello, World!\")\n"
   ]
  },
  {
   "cell_type": "markdown",
   "metadata": {},
   "source": [
    "**Question 2:** Write a Python program that takes a user input and prints it."
   ]
  },
  {
   "cell_type": "code",
   "execution_count": null,
   "metadata": {},
   "outputs": [],
   "source": [
    "\n",
    "a= input(\"Enter Any:\")\n",
    "print(a)"
   ]
  },
  {
   "cell_type": "markdown",
   "metadata": {},
   "source": [
    "**Question 3:** Write a Python program to check if a number is positive, negative, or zero."
   ]
  },
  {
   "cell_type": "code",
   "execution_count": null,
   "metadata": {},
   "outputs": [],
   "source": [
    "a = int(input(\"Enter a number to check : \"))\n",
    "if a==0:\n",
    "    print(\"Number is Zero \")\n",
    "elif a>0:\n",
    "        print(\"Number is Positive \")\n",
    "elif a<0:\n",
    "        print(\"Number is Negitive \")"
   ]
  },
  {
   "cell_type": "markdown",
   "metadata": {},
   "source": [
    "**Question 4:** Write a Python program to find the largest of three numbers."
   ]
  },
  {
   "cell_type": "code",
   "execution_count": null,
   "metadata": {},
   "outputs": [],
   "source": [
    "a = int(input(\"First Number: \"))\n",
    "b = int(input(\"Second Number: \"))\n",
    "c = int(input(\"Third Number: \"))\n",
    "largest = max(a,b,c)\n",
    "print(\"The Largest among three : \" , largest)"
   ]
  },
  {
   "cell_type": "markdown",
   "metadata": {},
   "source": [
    "**Question 5:** Write a Python program to calculate the factorial of a number."
   ]
  },
  {
   "cell_type": "code",
   "execution_count": null,
   "metadata": {},
   "outputs": [],
   "source": [
    "value = int(input(\"Enter value to find its factorial :\"))\n",
    "factorial  = 1\n",
    "\n",
    "if value < 0:\n",
    "    print(\"There is no factorial for 0 and Negative \")\n",
    "elif value == 0:\n",
    "    print(\"The factorial of 0 is 1 \")\n",
    "else:\n",
    "    for i in range(1, value+1):\n",
    "        factorial *= i\n",
    "        \n",
    "    print(\"The factorail of your value\", value ,  \"is \",factorial )\n",
    "    "
   ]
  },
  {
   "cell_type": "markdown",
   "metadata": {},
   "source": [
    "## 2. Variables and Data Types\n",
    "\n",
    "**Question 6:** Create variables of different data types: integer, float, string, and boolean. Print their values and types."
   ]
  },
  {
   "cell_type": "code",
   "execution_count": null,
   "metadata": {},
   "outputs": [],
   "source": [
    "# Integer\n",
    "age = int(input(\"Enter your age: \"))  # Convert input to integer\n",
    "print(\"Value:\", age)\n",
    "print(\"Type:\", type(age))\n",
    "\n",
    "#float\n",
    "height = float(input(\"Enter your height : \"))\n",
    "print(\"Value:\", height)\n",
    "print(\"Type:\", type(height))\n",
    "\n",
    "# String\n",
    "name = input(\"Enter your name: \")  # No need to convert, input is already string\n",
    "print(\"Value:\", name)\n",
    "print(\"Type:\", type(name))\n",
    "\n",
    "# Boolean\n",
    "# User enters True or False (case-sensitive)\n",
    "is_student = input(\"Are you a student? (True/False): \")\n",
    "is_student = True if is_student == \"True\" else False\n",
    "print(\"Value:\", is_student)\n",
    "print(\"Type:\", type(is_student))\n"
   ]
  },
  {
   "cell_type": "markdown",
   "metadata": {},
   "source": [
    "**Question 7:** Write a Python program to swap the values of two variables."
   ]
  },
  {
   "cell_type": "code",
   "execution_count": 2,
   "metadata": {},
   "outputs": [
    {
     "name": "stdout",
     "output_type": "stream",
     "text": [
      "10 20\n",
      "20 10\n"
     ]
    }
   ],
   "source": [
    "values = [ 10 , 20 ]\n",
    "a, b = values\n",
    "print(a,b)\n",
    "a ,b = b ,a \n",
    "print (a,b )"
   ]
  },
  {
   "cell_type": "markdown",
   "metadata": {},
   "source": [
    "**Question 8:** Write a Python program to convert Celsius to Fahrenheit."
   ]
  },
  {
   "cell_type": "code",
   "execution_count": null,
   "metadata": {},
   "outputs": [],
   "source": [
    "celcius = float(input(\"Enter celcius to convert in fahrenheit : \"))\n",
    "fahrenheit = (celcius * 9/5) + 32\n",
    "print(\"Fahrenheit of \",celcius,\" is : \", fahrenheit)\n"
   ]
  },
  {
   "cell_type": "markdown",
   "metadata": {},
   "source": [
    "**Question 9:** Write a Python program to concatenate two strings."
   ]
  },
  {
   "cell_type": "code",
   "execution_count": null,
   "metadata": {},
   "outputs": [],
   "source": [
    "first_name = str(input(\"Enter your first name : \"))\n",
    "last_name = str(input(\"Enter your last name : \"))\n",
    "print(\"Your full name : \"+ first_name+\" \"+ last_name)\n",
    "print(\"Your full name : \", first_name,\" \", last_name)"
   ]
  },
  {
   "cell_type": "markdown",
   "metadata": {},
   "source": [
    "**Question 10:** Write a Python program to check if a variable is of a specific data type."
   ]
  },
  {
   "cell_type": "code",
   "execution_count": null,
   "metadata": {},
   "outputs": [],
   "source": [
    "# print(\"Heyy \")\n",
    "\n",
    "age = int(input(\"Enter your age  : \"))\n",
    "name = input(\"Enter yout name : \")\n",
    "height = float(input(\"Enter yout height : \"))\n",
    "is_student = input(\"Are you student(True/False): \")\n",
    "\n",
    "if is_student == \"True\":\n",
    "    is_student = True\n",
    "else:\n",
    "    is_student = False\n",
    "print(\"Is 'age' is integer? :\", isinstance(age, int))\n",
    "print(\"is 'name' is of string? \", isinstance(name, str))\n",
    "print(\"Is 'hieght' i float ? : \", isinstance(height, float))\n",
    "print(\"Is 'is_student' is boolean ? :\" , isinstance(is_student, bool))"
   ]
  },
  {
   "cell_type": "markdown",
   "metadata": {},
   "source": [
    "## 3. Basic Operators (Arithmetic, Comparison, Logical)\n",
    "\n",
    "**Question 11:** Write a Python program to perform arithmetic operations: addition, subtraction, multiplication, and division."
   ]
  },
  {
   "cell_type": "code",
   "execution_count": null,
   "metadata": {},
   "outputs": [],
   "source": [
    "a = float(input(\"Enter a value :\"))\n",
    "b = float(input(\"Enter another value :\"))\n",
    "\n",
    "#add\n",
    "print(\"Addition :\", a+b)\n",
    "#substaction\n",
    "print(\"Subtract b from a :\", a-b)\n",
    "#multiplication\n",
    "print(\"Multiplication :\" , a*b)\n",
    "#division\n",
    "print(\"Divide a by b : \", a/b)\n",
    "                "
   ]
  },
  {
   "cell_type": "markdown",
   "metadata": {},
   "source": [
    "**Question 12:** Write a Python program to demonstrate comparison operators: equal to, not equal to, greater than, less than."
   ]
  },
  {
   "cell_type": "code",
   "execution_count": null,
   "metadata": {},
   "outputs": [],
   "source": [
    "a = float(input(\"Enter a value :\"))\n",
    "b = float(input(\"Enter another(b) value :\"))\n",
    "\n",
    "print(\"Is a greater than b :\" , a>b)\n",
    "print(\"Is a lesser than b :\", a<b)\n",
    "print(\"Is a is equal to b :\", a==b)\n",
    "print(\"Is a is not equal to b :\" , a!=b)"
   ]
  },
  {
   "cell_type": "markdown",
   "metadata": {},
   "source": [
    "**Question 13:** Write a Python program to demonstrate logical operators: and, or, not."
   ]
  },
  {
   "cell_type": "code",
   "execution_count": null,
   "metadata": {},
   "outputs": [],
   "source": [
    "a = True\n",
    "b = False\n",
    "\n",
    "print(\" A AND B :\", a and b )\n",
    "print(\"A OR B :\", a or b)\n",
    "print(\"A not :\" ,  not a)\n",
    "print(\"B not : \", not b)\n"
   ]
  },
  {
   "cell_type": "markdown",
   "metadata": {},
   "source": [
    "**Question 14:** Write a Python program to calculate the square of a number."
   ]
  },
  {
   "cell_type": "code",
   "execution_count": null,
   "metadata": {},
   "outputs": [],
   "source": [
    "num = float(input(\"Enter number to find its square: \"))\n",
    "square = num*num \n",
    "print(\"Square of \",num,\" is \",square)"
   ]
  },
  {
   "cell_type": "markdown",
   "metadata": {},
   "source": [
    "**Question 15:** Write a Python program to check if a number is even or odd."
   ]
  },
  {
   "cell_type": "code",
   "execution_count": null,
   "metadata": {},
   "outputs": [],
   "source": [
    "num = float(input(\"Enter num to check even or odd :\"))\n",
    "num = round(num)\n",
    "if(num % 2 == 0):\n",
    "    print(\"Entered number is Even \")\n",
    "else:\n",
    "    print(\"Entered number is Odd\")"
   ]
  },
  {
   "cell_type": "markdown",
   "metadata": {},
   "source": [
    "**Question 16:** Write a Python program to find the sum of the first n natural numbers."
   ]
  },
  {
   "cell_type": "code",
   "execution_count": null,
   "metadata": {},
   "outputs": [],
   "source": [
    "limit = int(input(\"Enter the limit till you want to add: \"))\n",
    "result = 0\n",
    "\n",
    "for i in range(1, limit + 1):\n",
    "    result += i\n",
    "\n",
    "print(\"Sum of natural numbers till\", limit, \"is:\", result)\n"
   ]
  },
  {
   "cell_type": "markdown",
   "metadata": {},
   "source": [
    "**Question 17:** Write a Python program to check if a year is a leap year."
   ]
  },
  {
   "cell_type": "code",
   "execution_count": null,
   "metadata": {},
   "outputs": [],
   "source": [
    "year = int(input(\"Enter year :\"))\n",
    "if year %4 == 0 :\n",
    "    print(\"Its leap year bruh!\")\n",
    "else:\n",
    "    print(\"Not leap year!\")"
   ]
  },
  {
   "cell_type": "markdown",
   "metadata": {},
   "source": [
    "**Question 18:** Write a Python program to reverse a string."
   ]
  },
  {
   "cell_type": "code",
   "execution_count": null,
   "metadata": {},
   "outputs": [],
   "source": [
    "a_string = input(\"Enter any string :\")\n",
    "rev_string = a_string[::-1]\n",
    "print(\"Reversed :\", rev_string)"
   ]
  },
  {
   "cell_type": "markdown",
   "metadata": {},
   "source": [
    "**Question 19:** Write a Python program to check if a string is a palindrome."
   ]
  },
  {
   "cell_type": "code",
   "execution_count": null,
   "metadata": {},
   "outputs": [],
   "source": [
    "a_string = input(\"Enter any string :\")\n",
    "a_string = a_string.lower()\n",
    "rev_string = a_string[::-1]\n",
    "# print(\"Reversed :\", rev_string)\n",
    "if a_string == rev_string :\n",
    "    print(\"Entered String is Palindrome\")\n",
    "else:\n",
    "    print(\"Entered string  is NOT palindrome\")"
   ]
  },
  {
   "cell_type": "markdown",
   "metadata": {},
   "source": [
    "**Question 20:** Write a Python program to sort a list of numbers in ascending order."
   ]
  },
  {
   "cell_type": "code",
   "execution_count": 4,
   "metadata": {},
   "outputs": [
    {
     "name": "stdout",
     "output_type": "stream",
     "text": [
      "The numbers are :  [17, 14, 11, 10, 7]\n",
      "The numbers are :  [7, 10, 11, 14, 17]\n"
     ]
    }
   ],
   "source": [
    "numbers = [17, 14 , 11, 10, 7 ]\n",
    "print(\"The numbers are : \", numbers )\n",
    "sorted_num = sorted(numbers)\n",
    "print(\"The numbers are : \", sorted_num )"
   ]
  },
  {
   "cell_type": "code",
   "execution_count": null,
   "metadata": {},
   "outputs": [],
   "source": []
  }
 ],
 "metadata": {
  "kernelspec": {
   "display_name": "Python 3 (ipykernel)",
   "language": "python",
   "name": "python3"
  },
  "language_info": {
   "codemirror_mode": {
    "name": "ipython",
    "version": 3
   },
   "file_extension": ".py",
   "mimetype": "text/x-python",
   "name": "python",
   "nbconvert_exporter": "python",
   "pygments_lexer": "ipython3",
   "version": "3.10.12"
  }
 },
 "nbformat": 4,
 "nbformat_minor": 4
}
